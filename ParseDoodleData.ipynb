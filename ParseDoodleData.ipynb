{
 "cells": [
  {
   "cell_type": "code",
   "execution_count": 2,
   "metadata": {},
   "outputs": [],
   "source": [
    "lines = open('some_data.txt').read().split('\\n\\n')\n",
    "all_lines = [line.splitlines() for line in lines]"
   ]
  },
  {
   "cell_type": "code",
   "execution_count": 3,
   "metadata": {},
   "outputs": [],
   "source": [
    "import numpy as np\n",
    "import pandas as pd\n",
    "\n",
    "temp_list = []\n",
    "for line in all_lines:\n",
    "    temp_dict = dict()\n",
    "    temp_dict['votes'] = []\n",
    "    temp_dict['metadata'] = {}\n",
    "    for idx, txt in enumerate(line):\n",
    "        if idx == 0:\n",
    "            id_, opt1, opt2 = txt.split(' ')\n",
    "            temp_dict['metadata'].update({'id': id_, 'opt1': opt1, 'opt2': opt2})\n",
    "            continue\n",
    "        try:\n",
    "            label, value = txt.split(': ')\n",
    "            temp_dict['metadata'].update({label: value})\n",
    "        except ValueError:\n",
    "            if txt.isnumeric():\n",
    "                temp_dict['votes'].append([vote for vote in txt])\n",
    "\n",
    "    temp_dict['votes'] = pd.DataFrame(temp_dict['votes'], columns=temp_dict['metadata']['Options'].split(' '))\n",
    "    temp_list.append(temp_dict)"
   ]
  },
  {
   "cell_type": "code",
   "execution_count": 33,
   "metadata": {},
   "outputs": [
    {
     "data": {
      "text/plain": [
       "array([ 98, 256, 267, 299, 318, 385, 491, 492, 654, 695, 759, 780])"
      ]
     },
     "execution_count": 33,
     "metadata": {},
     "output_type": "execute_result"
    }
   ],
   "source": [
    "good_inds = np.where([((temp_list[i]['metadata']['opt1'] == 'hidden') and \n",
    "                       (temp_list[i]['votes'].shape[0] > 2))\n",
    "                        for i in range(791)])[0]\n",
    "good_inds"
   ]
  }
 ],
 "metadata": {
  "kernelspec": {
   "display_name": "Python 3",
   "language": "python",
   "name": "python3"
  },
  "language_info": {
   "codemirror_mode": {
    "name": "ipython",
    "version": 3
   },
   "file_extension": ".py",
   "mimetype": "text/x-python",
   "name": "python",
   "nbconvert_exporter": "python",
   "pygments_lexer": "ipython3",
   "version": "3.6.9"
  }
 },
 "nbformat": 4,
 "nbformat_minor": 2
}
