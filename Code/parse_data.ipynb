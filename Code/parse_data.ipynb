{
 "cells": [
  {
   "cell_type": "markdown",
   "metadata": {},
   "source": [
    "### This notebook parses the raw text data and extracts valid Doodle polls from it"
   ]
  },
  {
   "cell_type": "code",
   "execution_count": 1,
   "metadata": {},
   "outputs": [],
   "source": [
    "lines = open('../Data/raw_data.txt').read().split('\\n\\n')  # 'hidden_polls.txt'/ 'raw_data.txt' / ifiexport2-merged.sample\n",
    "all_lines = [line.splitlines() for line in lines]"
   ]
  },
  {
   "cell_type": "code",
   "execution_count": 2,
   "metadata": {},
   "outputs": [
    {
     "data": {
      "text/plain": [
       "676"
      ]
     },
     "execution_count": 2,
     "metadata": {},
     "output_type": "execute_result"
    }
   ],
   "source": [
    "import numpy as np\n",
    "import pandas as pd\n",
    "\n",
    "temp_list = []\n",
    "for poll_idx, line in enumerate(all_lines):\n",
    "    need_parse = True\n",
    "    temp_dict = dict()\n",
    "    temp_dict['votes'] = []\n",
    "    temp_dict['metadata'] = {}\n",
    "    for idx, txt in enumerate(line):\n",
    "        if need_parse:\n",
    "            if txt:\n",
    "                id_, opt1, opt2 = txt.split(' ')\n",
    "                temp_dict['metadata'].update({'id': id_, 'opt1': opt1, 'opt2': opt2})\n",
    "                need_parse = False\n",
    "            continue\n",
    "        try:\n",
    "            label, value = txt.split(': ')\n",
    "            temp_dict['metadata'].update({label: value})\n",
    "        except ValueError:\n",
    "            if txt.isnumeric():\n",
    "                temp_dict['votes'].append([vote for vote in txt])\n",
    "    if temp_dict['votes']:\n",
    "        temp_dict['votes'] = pd.DataFrame(temp_dict['votes'], columns=temp_dict['metadata']['Options'].split(' '))\n",
    "        temp_list.append(temp_dict)\n",
    "len(temp_list)"
   ]
  },
  {
   "cell_type": "code",
   "execution_count": 3,
   "metadata": {},
   "outputs": [],
   "source": [
    "# Extract only hidden polls with more than 2 responders\n",
    "good_inds = np.where([((temp_list[i]['metadata']['opt1'] == 'hidden') and \n",
    "                       (temp_list[i]['votes'].shape[0] > 2))\n",
    "                        for i in range(len(temp_list))])[0]"
   ]
  },
  {
   "cell_type": "code",
   "execution_count": 4,
   "metadata": {},
   "outputs": [],
   "source": [
    "# temp_list_filt = [temp_list[i] for i in good_inds]\n",
    "import pickle\n",
    "with open('Data/parsed_data', 'wb') as f:\n",
    "    pickle.dump(temp_list_filt, f, protocol=pickle.HIGHEST_PROTOCOL)"
   ]
  }
 ],
 "metadata": {
  "kernelspec": {
   "display_name": "Python 3",
   "language": "python",
   "name": "python3"
  },
  "language_info": {
   "codemirror_mode": {
    "name": "ipython",
    "version": 3
   },
   "file_extension": ".py",
   "mimetype": "text/x-python",
   "name": "python",
   "nbconvert_exporter": "python",
   "pygments_lexer": "ipython3",
   "version": "3.6.9"
  }
 },
 "nbformat": 4,
 "nbformat_minor": 2
}
