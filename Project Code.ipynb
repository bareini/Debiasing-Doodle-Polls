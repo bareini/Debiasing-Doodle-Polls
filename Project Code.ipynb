{
 "cells": [
  {
   "cell_type": "code",
   "execution_count": 10,
   "metadata": {},
   "outputs": [],
   "source": [
    "import math\n",
    "import numpy as np\n",
    "import pandas as pd\n",
    "import matplotlib.pyplot as plt\n",
    "from scipy.special import expit\n",
    "from collections import defaultdict"
   ]
  },
  {
   "cell_type": "code",
   "execution_count": 13,
   "metadata": {},
   "outputs": [],
   "source": [
    "\n",
    "# Simulate Hidden Polls\n",
    "def sample_hidden_poll(num_voters, num_ts, avg_ava):\n",
    "    return np.random.binomial(n=1, p=avg_ava, size=(num_voters, num_ts))\n",
    "\n",
    "# Simulate individual utilities\n",
    "def generate_individual_utils(um_voters, num_ts, hidden_poll, tau_a1=0.8):\n",
    "    u_mat = np.zeros((num_voters, num_ts))\n",
    "    a1_utils = np.random.uniform(low=tau_a1, high=1, size=u_mat.shape)\n",
    "    u_mat[np.where(hidden_poll==1)] = a1_utils[np.where(hidden_poll==1)]\n",
    "    a23_utils = np.random.uniform(low=0, high=tau_a1, size=u_mat.shape)\n",
    "    u_mat[np.where(hidden_poll==0)] = a23_utils[np.where(hidden_poll==0)]\n",
    "    return u_mat\n",
    "\n",
    "# Calculate social utilities and simulate open poll\n",
    "def calc_open_poll(um_voters, num_ts, u_mat, tau_a1=0.8, tau_a2=0.4):\n",
    "    \n",
    "    max_soc_util = tau_a1 - tau_a2\n",
    "    socio_mat, open_poll = np.zeros((num_voters, num_ts)), np.zeros((num_voters, num_ts)).astype(int)\n",
    "    for voter in range(num_voters):\n",
    "        for ts in range(num_ts):\n",
    "            pop = np.mean(open_poll[:voter,ts])\n",
    "            socio_mat[voter,ts] = calc_su(pop, voter, num_voters, max_soc_util)\n",
    "            tot_u = u_mat[voter,ts] + socio_mat[voter,ts]\n",
    "            if tot_u > tau_a1:\n",
    "                open_poll[voter,ts] = 1\n",
    "    return open_poll\n",
    "\n",
    "\n",
    "# Social utility modeling\n",
    "def su_pop(pop, mu, nat_pop):    \n",
    "    if pop <=nat_pop:\n",
    "#         y = mu*(1-expit(28*pop-4.2))\n",
    "        y = mu*(1-expit(16*pop-4.2))\n",
    "    else:\n",
    "#         y = mu+(-mu*(1-expit(28*(pop-0.5)-10)))\n",
    "        y = mu+(-mu*(1-expit(16*(pop-nat_pop)-4.2)))\n",
    "    return y\n",
    "\n",
    "\n",
    "def su_n(n, N):\n",
    "    return expit(10*((n/N))-2)\n",
    "\n",
    "\n",
    "def calc_su(pop, n, num_voters, max_su, nat_pop=0.5):\n",
    "    if nat_pop != 0.5:\n",
    "        raise NotImplementedError\n",
    "    if math.isnan(pop):\n",
    "        return 0\n",
    "    else:\n",
    "        return (su_pop(pop, max_su, nat_pop) * su_n(n, num_voters))\n",
    "\n",
    "# estimate social utils based on essumed max social util value\n",
    "def estimate_social_utils(open_poll, max_soc_util, num_voters, num_ts):\n",
    "    socio_mat_hat = np.zeros((num_voters, num_ts))\n",
    "    for voter in range(num_voters):\n",
    "        for ts in range(num_ts):\n",
    "            pop = np.mean(open_poll[:voter,ts])\n",
    "            socio_mat_hat[voter,ts] = calc_su(pop, voter, num_voters, max_soc_util, nat_pop=0.5)\n",
    "    return socio_mat_hat\n",
    "\n",
    "def calc_weights(socio_mat_hat):\n",
    "    weights = 1 / socio_mat_hat + 1\n",
    "    weights[0, :] = np.max(weights[1:,:])\n",
    "    return weights\n",
    "\n",
    "def declare_winner(weights, open_poll):\n",
    "    max_score = np.max(weights.sum(axis=0))\n",
    "    winner_dda = np.argmax(np.sum(open_poll, axis=0))\n",
    "    score_dda = weights.sum(axis=0)[winner_dda]\n",
    "    winner_weights = np.argmax(np.sum(weights*open_poll, axis=0))\n",
    "\n",
    "    if max_score - score_dda > 0.1*score_dda:\n",
    "        final_winner = winner_weights\n",
    "    else:\n",
    "        final_winner = winner_dda\n",
    "    return winner_dda, winner_weights, final_winner, score_dda, max_score\n",
    "\n",
    "\n",
    "def update_res_dict(res_dict, num_voters, num_ts, tau_a1, tau_a2, avg_ava, max_soc_util, winner_results, trial_num):\n",
    "    winner_dda, winner_weights, final_winner, score_dda, max_score = winner_results\n",
    "    res_dict['num_voters'].extend([num_voters])\n",
    "    res_dict['num_ts'].extend([num_ts])\n",
    "    res_dict['tau_a1'].extend([tau_a1])\n",
    "    res_dict['tau_a2'].extend([tau_a2])\n",
    "    res_dict['avg_ava'].extend([avg_ava])\n",
    "    res_dict['max_soc_util'].extend([max_soc_util])\n",
    "    res_dict['winner_dda'].extend([winner_dda])\n",
    "    res_dict['winner_weights'].extend([winner_weights])\n",
    "    res_dict['final_winner'].extend([final_winner])\n",
    "    res_dict['score_dda'].extend([score_dda])\n",
    "    res_dict['max_score'].extend([max_score])\n",
    "    res_dict['trial_num'].extend([trial_num])\n",
    "    return res_dict"
   ]
  },
  {
   "cell_type": "code",
   "execution_count": 17,
   "metadata": {},
   "outputs": [
    {
     "name": "stderr",
     "output_type": "stream",
     "text": [
      "/home/tom/.local/lib/python3.6/site-packages/ipykernel_launcher.py:62: RuntimeWarning: divide by zero encountered in true_divide\n"
     ]
    },
    {
     "data": {
      "text/html": [
       "<div>\n",
       "<style scoped>\n",
       "    .dataframe tbody tr th:only-of-type {\n",
       "        vertical-align: middle;\n",
       "    }\n",
       "\n",
       "    .dataframe tbody tr th {\n",
       "        vertical-align: top;\n",
       "    }\n",
       "\n",
       "    .dataframe thead th {\n",
       "        text-align: right;\n",
       "    }\n",
       "</style>\n",
       "<table border=\"1\" class=\"dataframe\">\n",
       "  <thead>\n",
       "    <tr style=\"text-align: right;\">\n",
       "      <th></th>\n",
       "      <th>num_voters</th>\n",
       "      <th>num_ts</th>\n",
       "      <th>tau_a1</th>\n",
       "      <th>tau_a2</th>\n",
       "      <th>avg_ava</th>\n",
       "      <th>max_soc_util</th>\n",
       "      <th>winner_dda</th>\n",
       "      <th>winner_weights</th>\n",
       "      <th>final_winner</th>\n",
       "      <th>score_dda</th>\n",
       "      <th>max_score</th>\n",
       "      <th>trial_num</th>\n",
       "    </tr>\n",
       "  </thead>\n",
       "  <tbody>\n",
       "    <tr>\n",
       "      <th>0</th>\n",
       "      <td>3</td>\n",
       "      <td>3</td>\n",
       "      <td>0.8</td>\n",
       "      <td>0.4</td>\n",
       "      <td>0.4</td>\n",
       "      <td>0.4</td>\n",
       "      <td>0</td>\n",
       "      <td>2</td>\n",
       "      <td>0</td>\n",
       "      <td>236.861056</td>\n",
       "      <td>236.884354</td>\n",
       "      <td>0</td>\n",
       "    </tr>\n",
       "    <tr>\n",
       "      <th>1</th>\n",
       "      <td>3</td>\n",
       "      <td>3</td>\n",
       "      <td>0.8</td>\n",
       "      <td>0.4</td>\n",
       "      <td>0.4</td>\n",
       "      <td>0.4</td>\n",
       "      <td>2</td>\n",
       "      <td>2</td>\n",
       "      <td>2</td>\n",
       "      <td>124.136970</td>\n",
       "      <td>236.861056</td>\n",
       "      <td>1</td>\n",
       "    </tr>\n",
       "    <tr>\n",
       "      <th>2</th>\n",
       "      <td>3</td>\n",
       "      <td>3</td>\n",
       "      <td>0.8</td>\n",
       "      <td>0.4</td>\n",
       "      <td>0.4</td>\n",
       "      <td>0.4</td>\n",
       "      <td>0</td>\n",
       "      <td>0</td>\n",
       "      <td>0</td>\n",
       "      <td>124.136970</td>\n",
       "      <td>236.861056</td>\n",
       "      <td>2</td>\n",
       "    </tr>\n",
       "    <tr>\n",
       "      <th>3</th>\n",
       "      <td>3</td>\n",
       "      <td>3</td>\n",
       "      <td>0.8</td>\n",
       "      <td>0.4</td>\n",
       "      <td>0.4</td>\n",
       "      <td>0.4</td>\n",
       "      <td>0</td>\n",
       "      <td>1</td>\n",
       "      <td>1</td>\n",
       "      <td>124.136970</td>\n",
       "      <td>236.884354</td>\n",
       "      <td>3</td>\n",
       "    </tr>\n",
       "    <tr>\n",
       "      <th>4</th>\n",
       "      <td>3</td>\n",
       "      <td>3</td>\n",
       "      <td>0.8</td>\n",
       "      <td>0.4</td>\n",
       "      <td>0.4</td>\n",
       "      <td>0.4</td>\n",
       "      <td>0</td>\n",
       "      <td>0</td>\n",
       "      <td>0</td>\n",
       "      <td>124.136970</td>\n",
       "      <td>236.861056</td>\n",
       "      <td>4</td>\n",
       "    </tr>\n",
       "    <tr>\n",
       "      <th>...</th>\n",
       "      <td>...</td>\n",
       "      <td>...</td>\n",
       "      <td>...</td>\n",
       "      <td>...</td>\n",
       "      <td>...</td>\n",
       "      <td>...</td>\n",
       "      <td>...</td>\n",
       "      <td>...</td>\n",
       "      <td>...</td>\n",
       "      <td>...</td>\n",
       "      <td>...</td>\n",
       "      <td>...</td>\n",
       "    </tr>\n",
       "    <tr>\n",
       "      <th>3595</th>\n",
       "      <td>20</td>\n",
       "      <td>10</td>\n",
       "      <td>0.8</td>\n",
       "      <td>0.4</td>\n",
       "      <td>0.4</td>\n",
       "      <td>0.4</td>\n",
       "      <td>9</td>\n",
       "      <td>6</td>\n",
       "      <td>6</td>\n",
       "      <td>759.938985</td>\n",
       "      <td>2353.218568</td>\n",
       "      <td>95</td>\n",
       "    </tr>\n",
       "    <tr>\n",
       "      <th>3596</th>\n",
       "      <td>20</td>\n",
       "      <td>10</td>\n",
       "      <td>0.8</td>\n",
       "      <td>0.4</td>\n",
       "      <td>0.4</td>\n",
       "      <td>0.4</td>\n",
       "      <td>7</td>\n",
       "      <td>6</td>\n",
       "      <td>7</td>\n",
       "      <td>2063.208672</td>\n",
       "      <td>2182.618105</td>\n",
       "      <td>96</td>\n",
       "    </tr>\n",
       "    <tr>\n",
       "      <th>3597</th>\n",
       "      <td>20</td>\n",
       "      <td>10</td>\n",
       "      <td>0.8</td>\n",
       "      <td>0.4</td>\n",
       "      <td>0.4</td>\n",
       "      <td>0.4</td>\n",
       "      <td>7</td>\n",
       "      <td>6</td>\n",
       "      <td>6</td>\n",
       "      <td>1053.075521</td>\n",
       "      <td>2043.031167</td>\n",
       "      <td>97</td>\n",
       "    </tr>\n",
       "    <tr>\n",
       "      <th>3598</th>\n",
       "      <td>20</td>\n",
       "      <td>10</td>\n",
       "      <td>0.8</td>\n",
       "      <td>0.4</td>\n",
       "      <td>0.4</td>\n",
       "      <td>0.4</td>\n",
       "      <td>7</td>\n",
       "      <td>8</td>\n",
       "      <td>8</td>\n",
       "      <td>529.455145</td>\n",
       "      <td>2220.090637</td>\n",
       "      <td>98</td>\n",
       "    </tr>\n",
       "    <tr>\n",
       "      <th>3599</th>\n",
       "      <td>20</td>\n",
       "      <td>10</td>\n",
       "      <td>0.8</td>\n",
       "      <td>0.4</td>\n",
       "      <td>0.4</td>\n",
       "      <td>0.4</td>\n",
       "      <td>4</td>\n",
       "      <td>4</td>\n",
       "      <td>4</td>\n",
       "      <td>1232.566325</td>\n",
       "      <td>1904.025680</td>\n",
       "      <td>99</td>\n",
       "    </tr>\n",
       "  </tbody>\n",
       "</table>\n",
       "<p>3600 rows × 12 columns</p>\n",
       "</div>"
      ],
      "text/plain": [
       "      num_voters  num_ts  tau_a1  tau_a2  avg_ava  max_soc_util  winner_dda  \\\n",
       "0              3       3     0.8     0.4      0.4           0.4           0   \n",
       "1              3       3     0.8     0.4      0.4           0.4           2   \n",
       "2              3       3     0.8     0.4      0.4           0.4           0   \n",
       "3              3       3     0.8     0.4      0.4           0.4           0   \n",
       "4              3       3     0.8     0.4      0.4           0.4           0   \n",
       "...          ...     ...     ...     ...      ...           ...         ...   \n",
       "3595          20      10     0.8     0.4      0.4           0.4           9   \n",
       "3596          20      10     0.8     0.4      0.4           0.4           7   \n",
       "3597          20      10     0.8     0.4      0.4           0.4           7   \n",
       "3598          20      10     0.8     0.4      0.4           0.4           7   \n",
       "3599          20      10     0.8     0.4      0.4           0.4           4   \n",
       "\n",
       "      winner_weights  final_winner    score_dda    max_score  trial_num  \n",
       "0                  2             0   236.861056   236.884354          0  \n",
       "1                  2             2   124.136970   236.861056          1  \n",
       "2                  0             0   124.136970   236.861056          2  \n",
       "3                  1             1   124.136970   236.884354          3  \n",
       "4                  0             0   124.136970   236.861056          4  \n",
       "...              ...           ...          ...          ...        ...  \n",
       "3595               6             6   759.938985  2353.218568         95  \n",
       "3596               6             7  2063.208672  2182.618105         96  \n",
       "3597               6             6  1053.075521  2043.031167         97  \n",
       "3598               8             8   529.455145  2220.090637         98  \n",
       "3599               4             4  1232.566325  1904.025680         99  \n",
       "\n",
       "[3600 rows x 12 columns]"
      ]
     },
     "execution_count": 17,
     "metadata": {},
     "output_type": "execute_result"
    }
   ],
   "source": [
    "from tqdm import tnrange, tqdm_notebook\n",
    "\n",
    "sim_name = 'first_sim'\n",
    "num_voters_list = [3, 5, 7, 10, 15, 20]\n",
    "num_ts_list = [3, 4, 5, 6, 8, 10]\n",
    "\n",
    "tau_a1 = 0.8\n",
    "tau_a2 = 0.4\n",
    "avg_ava = 0.4\n",
    "max_soc_util = tau_a1 - tau_a2  # later - guesstimate this\n",
    "res_dict = defaultdict(list)\n",
    "\n",
    "for num_voters in num_voters_list:\n",
    "    for num_ts in num_ts_list:\n",
    "        for trial_num in range(100):\n",
    "            hidden_poll = sample_hidden_poll(num_voters, num_ts, avg_ava)\n",
    "            ind_utils = generate_individual_utils(num_voters, num_ts, hidden_poll, tau_a1)\n",
    "            open_poll = calc_open_poll(num_voters, num_ts, ind_utils, tau_a1, tau_a2)\n",
    "            socio_mat_hat = estimate_social_utils(open_poll, max_soc_util, num_voters, num_ts)\n",
    "            weights = calc_weights(socio_mat_hat)\n",
    "            winner_results = declare_winner(weights, open_poll)\n",
    "            res_dict = update_res_dict(res_dict, num_voters, num_ts, tau_a1, tau_a2, avg_ava, max_soc_util, winner_results, trial_num)\n",
    "\n",
    "df_res = pd.DataFrame(res_dict)\n",
    "df_res.to_csv(f'Results/{sim_name}.csv')\n",
    "df_res"
   ]
  },
  {
   "cell_type": "code",
   "execution_count": 105,
   "metadata": {},
   "outputs": [],
   "source": [
    "# Simulate Hidden Polls - correlated time slots (TODO)\n",
    "voter1 = np.random.binomial(n=1, p=avg_ava, size=( num_ts))\n",
    "voter2 = np.zeros((num_ts))\n",
    "corr_i = 0.05\n",
    "corr = corr_i*np.sign(voter1-0.5)\n",
    "for ts in range(num_ts):\n",
    "    p = np.maximum(np.minimum(avg_ava+corr[ts], 1), 0)\n",
    "    voter2[ts] = np.random.binomial(n=1, p=p, size=(1,1))"
   ]
  },
  {
   "cell_type": "code",
   "execution_count": 154,
   "metadata": {},
   "outputs": [
    {
     "data": {
      "text/plain": [
       "array([[0.52518407, 0.05926777, 0.92565181, 0.48193778, 0.03577881],\n",
       "       [0.93339417, 0.95588805, 0.84812972, 0.79875257, 0.8947179 ],\n",
       "       [0.67384887, 0.16365662, 0.9627958 , 0.67675947, 0.19552835],\n",
       "       [0.201406  , 0.87207452, 0.35430071, 0.90407938, 0.139678  ],\n",
       "       [0.76222871, 0.70496431, 0.73564572, 0.55789808, 0.64928527],\n",
       "       [0.0149809 , 0.80451858, 0.36848409, 0.47208102, 0.50613259],\n",
       "       [0.67368875, 0.55450422, 0.81444792, 0.884989  , 0.99327213],\n",
       "       [0.23682839, 0.33992184, 0.04232682, 0.79325092, 0.55683676],\n",
       "       [0.20657625, 0.83735585, 0.80378006, 0.81143709, 0.2662678 ],\n",
       "       [0.3835355 , 0.59667461, 0.35240012, 0.97785888, 0.87253587]])"
      ]
     },
     "execution_count": 154,
     "metadata": {},
     "output_type": "execute_result"
    }
   ],
   "source": [
    "# Simulate individual utilities\n",
    "tau_a1 = 0.8 # individual threshold for A1\n",
    "tau_a2 = 0.2\n",
    "\n",
    "u_mat = np.zeros((num_voters, num_ts))\n",
    "a1_utils = np.random.uniform(low=tau_a1, high=1, size=u_mat.shape)\n",
    "u_mat[np.where(hidden_poll==1)] = a1_utils[np.where(hidden_poll==1)]\n",
    "a23_utils = np.random.uniform(low=0, high=tau_a1, size=u_mat.shape)\n",
    "u_mat[np.where(hidden_poll==0)] = a23_utils[np.where(hidden_poll==0)]\n",
    "u_mat"
   ]
  },
  {
   "cell_type": "code",
   "execution_count": 159,
   "metadata": {},
   "outputs": [
    {
     "data": {
      "text/plain": [
       "array([[0.        , 0.        , 0.        , 0.        , 0.        ],\n",
       "       [0.10598723, 0.10598723, 0.10522266, 0.10598723, 0.10598723],\n",
       "       [0.00437625, 0.00437625, 0.19562375, 0.00437625, 0.00437625],\n",
       "       [0.07121869, 0.07121869, 0.28602484, 0.07121869, 0.07121869],\n",
       "       [0.19371687, 0.00770918, 0.15860196, 0.00770918, 0.19371687],\n",
       "       [0.03800789, 0.03800789, 0.2460142 , 0.03800789, 0.03800789],\n",
       "       [0.0956664 , 0.00859508, 0.06972553, 0.0956664 , 0.0956664 ],\n",
       "       [0.16218555, 0.02604456, 0.12562163, 0.02604456, 0.02604456],\n",
       "       [0.21938979, 0.05660013, 0.03980154, 0.00873087, 0.05660013],\n",
       "       [0.26206401, 0.020624  , 0.07093791, 0.01406396, 0.09732983]])"
      ]
     },
     "execution_count": 159,
     "metadata": {},
     "output_type": "execute_result"
    }
   ],
   "source": [
    "max_soc_util = tau_a1 - tau_a2\n",
    "socio_mat_hat = np.zeros((num_voters, num_ts))\n",
    "for voter in range(num_voters):\n",
    "    for ts in range(num_ts):\n",
    "        pop = np.mean(open_poll[:voter,ts])\n",
    "        socio_mat_hat[voter,ts] = calc_su(pop, voter, num_voters, max_soc_util)\n",
    "socio_mat_hat"
   ]
  },
  {
   "cell_type": "code",
   "execution_count": 155,
   "metadata": {},
   "outputs": [
    {
     "data": {
      "text/plain": [
       "array([[0.        , 0.        , 0.        , 0.        , 0.        ],\n",
       "       [0.10598723, 0.10598723, 0.10522266, 0.10598723, 0.10598723],\n",
       "       [0.00437625, 0.00437625, 0.19562375, 0.00437625, 0.00437625],\n",
       "       [0.07121869, 0.07121869, 0.28602484, 0.07121869, 0.07121869],\n",
       "       [0.19371687, 0.00770918, 0.15860196, 0.00770918, 0.19371687],\n",
       "       [0.03800789, 0.03800789, 0.2460142 , 0.03800789, 0.03800789],\n",
       "       [0.0956664 , 0.00859508, 0.06972553, 0.0956664 , 0.0956664 ],\n",
       "       [0.16218555, 0.02604456, 0.12562163, 0.02604456, 0.02604456],\n",
       "       [0.21938979, 0.05660013, 0.03980154, 0.00873087, 0.05660013],\n",
       "       [0.26206401, 0.020624  , 0.07093791, 0.01406396, 0.09732983]])"
      ]
     },
     "execution_count": 155,
     "metadata": {},
     "output_type": "execute_result"
    }
   ],
   "source": [
    "# Calculate social utilities and simulate open poll\n",
    "tau_a2 = 0.4\n",
    "max_soc_util = tau_a1 - tau_a2\n",
    "socio_mat, open_poll = np.zeros((num_voters, num_ts)), np.zeros((num_voters, num_ts)).astype(int)\n",
    "for voter in range(num_voters):\n",
    "    for ts in range(num_ts):\n",
    "        pop = np.mean(open_poll[:voter,ts])\n",
    "        socio_mat[voter,ts] = calc_su(pop, voter, num_voters, max_soc_util)\n",
    "        tot_u = u_mat[voter,ts] + socio_mat[voter,ts]\n",
    "        if tot_u > tau_a1:\n",
    "            open_poll[voter,ts] = 1\n",
    "socio_mat\n",
    "# hidden_poll\n",
    "# pop = \n",
    "# calc_su(pop, n, num_voters, max_soc_util)\n"
   ]
  },
  {
   "cell_type": "code",
   "execution_count": 157,
   "metadata": {},
   "outputs": [
    {
     "data": {
      "text/plain": [
       "array([[0, 0, 1, 0, 0],\n",
       "       [1, 1, 1, 1, 1],\n",
       "       [0, 0, 1, 0, 0],\n",
       "       [0, 1, 0, 1, 0],\n",
       "       [1, 0, 1, 0, 1],\n",
       "       [0, 1, 0, 0, 0],\n",
       "       [0, 0, 1, 1, 1],\n",
       "       [0, 0, 0, 1, 0],\n",
       "       [0, 1, 1, 1, 0],\n",
       "       [0, 0, 0, 1, 1]])"
      ]
     },
     "execution_count": 157,
     "metadata": {},
     "output_type": "execute_result"
    }
   ],
   "source": [
    "open_poll\n",
    "hidden_poll\n",
    "np.sum(hidden_poll, axis=0)"
   ]
  },
  {
   "cell_type": "code",
   "execution_count": 165,
   "metadata": {},
   "outputs": [
    {
     "data": {
      "text/plain": [
       "array([1, 4, 5, 4, 3])"
      ]
     },
     "execution_count": 165,
     "metadata": {},
     "output_type": "execute_result"
    }
   ],
   "source": [
    "ind_mat = np.zeros(tot_mat.shape)\n",
    "ind_mat[np.where(open_poll==1)] = tot_mat[np.where(open_poll==1)]\n",
    "winner_dda = np.argmax(np.sum(open_poll, axis=0))\n",
    "\n",
    "np.sum(hidden_poll, axis=0)"
   ]
  },
  {
   "cell_type": "code",
   "execution_count": 168,
   "metadata": {},
   "outputs": [
    {
     "name": "stderr",
     "output_type": "stream",
     "text": [
      "/home/tom/.local/lib/python3.6/site-packages/ipykernel_launcher.py:1: RuntimeWarning: divide by zero encountered in true_divide\n",
      "  \"\"\"Entry point for launching an IPython kernel.\n"
     ]
    },
    {
     "data": {
      "text/plain": [
       "2"
      ]
     },
     "execution_count": 168,
     "metadata": {},
     "output_type": "execute_result"
    }
   ],
   "source": [
    "weights = 1 / socio_mat_hat + 1\n",
    "weights[0, :] = np.max(weights[1:,:]) \n",
    "\n",
    "np.argmax(np.sum(weights*open_poll, axis=0))"
   ]
  },
  {
   "cell_type": "code",
   "execution_count": 179,
   "metadata": {},
   "outputs": [],
   "source": [
    "max_score = np.max(weights.sum(axis=0))\n",
    "winner_dda = np.argmax(np.sum(open_poll, axis=0))\n",
    "score_dda = weights.sum(axis=0)[winner_dda]\n",
    "winner_weights = np.argmax(np.sum(weights*open_poll, axis=0))\n",
    "\n",
    "if max_score - score_dda > 0.1*score_dda:\n",
    "    final_winner = winner_weights\n",
    "else:\n",
    "    final_winner = winner_dda"
   ]
  },
  {
   "cell_type": "code",
   "execution_count": 300,
   "metadata": {},
   "outputs": [
    {
     "name": "stdout",
     "output_type": "stream",
     "text": [
      "0.03567138177719785\n"
     ]
    }
   ],
   "source": [
    "# Generate votes with per-slot availability and check correlation between votes\n",
    "p_vec = np.array([0.5, 0.5, 0.5, 0.5, 0.5, 0.5, 0.5, 0.5, 0.5, 0.5]) + 0.1\n",
    "num_votes = 10\n",
    "votes = []\n",
    "for p in p_vec:\n",
    "    ts_votes = np.random.binomial(n=1, p=p, size=(num_votes,1))\n",
    "    votes += [ts_votes]\n",
    "votes = np.hstack(votes)\n",
    "\n",
    "from sklearn.metrics import pairwise_distances as pdist\n",
    "corr_mat = (1-pdist(votes, metric='correlation'))\n",
    "corr = np.sum(np.triu(corr_mat, k=1)) / ((num_votes**2-num_votes)/2)\n",
    "print(corr)"
   ]
  },
  {
   "cell_type": "code",
   "execution_count": 115,
   "metadata": {},
   "outputs": [
    {
     "data": {
      "image/png": "[encoded data removed]",
      "text/plain": [
       "<Figure size 432x288 with 1 Axes>"
      ]
     },
     "metadata": {
      "needs_background": "light"
     },
     "output_type": "display_data"
    }
   ],
   "source": [
    "# Visualize su_pop\n",
    "x = np.linspace(0,1,100)\n",
    "y = [su_pop(x[i], 1) for i in range(100)]\n",
    "plt.plot(x,y);\n",
    "plt.grid()"
   ]
  },
  {
   "cell_type": "code",
   "execution_count": 124,
   "metadata": {},
   "outputs": [
    {
     "data": {
      "image/png": "[encoded data removed]",
      "text/plain": [
       "<Figure size 432x288 with 1 Axes>"
      ]
     },
     "metadata": {
      "needs_background": "light"
     },
     "output_type": "display_data"
    }
   ],
   "source": [
    "# Visualize su_n\n",
    "x = np.linspace(0,1,100)\n",
    "y = expit(10*(x)-2)\n",
    "plt.plot(x,y);\n",
    "plt.grid()"
   ]
  },
  {
   "cell_type": "code",
   "execution_count": 12,
   "metadata": {},
   "outputs": [
    {
     "data": {
      "image/png": "[encoded data removed]",
      "text/plain": [
       "<Figure size 432x288 with 1 Axes>"
      ]
     },
     "metadata": {
      "needs_background": "light"
     },
     "output_type": "display_data"
    }
   ],
   "source": [
    "# Visualize total su\n",
    "N = 10\n",
    "n = 3\n",
    "pop = np.linspace(0,1,100)\n",
    "su = su_n(n, N) *  np.array([su_pop(pop[i], 1) for i in range(100)])\n",
    "plt.plot(x,su);\n",
    "plt.grid()"
   ]
  }
 ],
 "metadata": {
  "kernelspec": {
   "display_name": "Python 3",
   "language": "python",
   "name": "python3"
  },
  "language_info": {
   "codemirror_mode": {
    "name": "ipython",
    "version": 3
   },
   "file_extension": ".py",
   "mimetype": "text/x-python",
   "name": "python",
   "nbconvert_exporter": "python",
   "pygments_lexer": "ipython3",
   "version": "3.6.9"
  }
 },
 "nbformat": 4,
 "nbformat_minor": 2
}
